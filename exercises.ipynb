{
 "cells": [
  {
   "cell_type": "markdown",
   "id": "6cf1aed9",
   "metadata": {},
   "source": [
    "<font color='darkred'> Unless otherwise noted, **this notebook will not be reviewed or autograded.**</font> You are welcome to use it for scratchwork, but **only the files listed in the exercises will be checked.**\n",
    "\n",
    "---\n",
    "\n",
    "# Exercises\n",
    "\n",
    "For these exercises, add your functions to the *apputil\\.py* file. If you like, you're welcome to adjust the *app\\.py* file, but it is not required.\n",
    "\n",
    "## Exercise 1\n",
    "\n",
    "Given enough pennies (1 cent) and nickels (5 cents), write a function `ways(n)` which calculates the number of ways you can make change for a given amount of cents `n`. The function should return the number of ways to yield `n` cents using only pennies and nickels.\n",
    "\n",
    "**Test Cases:**\n",
    "\n",
    "```python\n",
    "function   --->      (num pennies, num nickels)\n",
    "    \n",
    "ways(12)   ---> 3    [(2, 2), (7, 1), (12, 0)]               \n",
    "ways(20)   ---> 5    [(0, 4), (5, 3), (10, 2), (15, 1), (20, 0)]\n",
    "ways(3)    ---> 1    [(3, 0)]\n",
    "ways(0)    ---> 1    [(0, 0)]\n",
    "```\n",
    "\n",
    "*Note: the autograder will be checking only for the function to return the **number** of ways. The items listed to the right, above, are for reference only.*"
   ]
  },
  {
   "cell_type": "markdown",
   "id": "a067cdd5",
   "metadata": {
    "vscode": {
     "languageId": "plaintext"
    }
   },
   "source": [
    "### optional variation\n",
    "\n",
    "Update your `ways` function to incorporate an *arbitrary* set of coin values. I.e., your function should now look something like this:\n",
    "\n",
    "```python\n",
    "def ways(cents, coin_types=[1, 5]):\n",
    "    # code code ...\n",
    "\n",
    ">>> ways(100, [25, 10, 5, 1])\n",
    ">>> 242\n",
    "```\n"
   ]
  },
  {
   "cell_type": "code",
   "execution_count": 74,
   "id": "ae5247e1",
   "metadata": {},
   "outputs": [
    {
     "name": "stdout",
     "output_type": "stream",
     "text": [
      "1\n",
      "1\n",
      "4\n",
      "9\n",
      "242\n"
     ]
    }
   ],
   "source": [
    "import numpy as np\n",
    "# Write a function ways(n) which calculates the number of ways you can make change for a given amount of cents n\n",
    "    # Using coins of denominations 1 cent and 5 cents\n",
    "    # Function should return the number of ways to yield n cents using only pennies and nickels\n",
    "# Define ways\n",
    "def ways(n):\n",
    "# Define an array using the coins available\n",
    "    coins = [1, 5, 10, 25]\n",
    "    # Create a list to store the number of ways to make change for each amount up to n\n",
    "    ways_to_make_change = [0] * (n + 1)\n",
    "    # There is one way to make change for 0 cents: use no coins\n",
    "    ways_to_make_change[0] = 1\n",
    "    # Loop through each coin\n",
    "    for coin in coins:\n",
    "        # Loop through each amount from coin to n\n",
    "        for amount in range(coin, n + 1):\n",
    "            # Update the number of ways to make change for the current amount\n",
    "            ways_to_make_change[amount] += ways_to_make_change[amount - coin]\n",
    "    # Return the number of ways to make change for n cents\n",
    "    return ways_to_make_change[n]\n",
    "    # Test cases\n",
    "print(ways(0))  # Output: 1 (combination of no coins)\n",
    "print(ways(3))  # Output: 1 (combinations of pennies)\n",
    "print(ways(12)) # Output: 4 (combinations of pennies and nickels)\n",
    "print(ways(20)) # Output: 9 (combinations of pennies and nickels)\n",
    "print(ways(100)) # Output: 242 (combinations of pennies and nickels)"
   ]
  },
  {
   "cell_type": "code",
   "execution_count": 79,
   "id": "b7201a6c",
   "metadata": {},
   "outputs": [
    {
     "name": "stdout",
     "output_type": "stream",
     "text": [
      "1\n",
      "1\n",
      "4\n",
      "9\n",
      "242\n"
     ]
    }
   ],
   "source": [
    "import numpy as np\n",
    "# Write a function ways(n) which calculates the number of ways you can make change for a given amount of cents n\n",
    "    # Using coins of denominations 1 cent and 5 cents\n",
    "    # Function should return the number of ways to yield n cents using only pennies and nickels\n",
    "# Define ways\n",
    "def ways(n):\n",
    "# Define an array using the coins available\n",
    "    coins = [1, 5, 10, 25]\n",
    "    # Create a list to store the number of ways to make change for each amount up to n\n",
    "    ways_to_make_change = [0] * (n + 1)\n",
    "    # There is one way to make change for 0 cents: use no coins\n",
    "    ways_to_make_change[0] = 1\n",
    "    # Loop through each coin\n",
    "    for coin in coins:\n",
    "        # Loop through each amount from coin to n\n",
    "        for amount in range(coin, n + 1):\n",
    "            # Update the number of ways to make change for the current amount\n",
    "            ways_to_make_change[amount] += ways_to_make_change[amount - coin]\n",
    "    # Return the number of ways to make change for n cents\n",
    "    return ways_to_make_change[n]\n",
    "    # Example of looping through coins\n",
    "coins = [1, 5, 10, 25]\n",
    "    # suppose we want to print the pennies and nickels in coins\n",
    "for coin in coins:\n",
    "    # we can \"skip\" values using continue\n",
    "    if coin > 5:\n",
    "        continue\n",
    "    \n",
    "    # remember what the `%` symbol does\n",
    "    if coin % 2 > 0:\n",
    "        f\"{coin}\"\n",
    "    \n",
    "    # `break` completely stops the looping process\n",
    "    elif coin > 5:\n",
    "        break\n",
    "# Test cases\n",
    "print(ways(0))  # Output: 1 (combination of no coins)\n",
    "print(ways(3))  # Output: 1 (combinations of pennies)\n",
    "print(ways(12)) # Output: 4 (combinations of pennies and nickels)\n",
    "print(ways(20)) # Output: 9 (combinations of pennies and nickels)\n",
    "print(ways(100)) # Output: 242 (combinations of pennies and nickels)"
   ]
  },
  {
   "cell_type": "code",
   "execution_count": 2,
   "id": "55cc4862",
   "metadata": {},
   "outputs": [
    {
     "name": "stdout",
     "output_type": "stream",
     "text": [
      "1\n",
      "5\n"
     ]
    }
   ],
   "source": [
    "# Example of looping through coins to yield n cents using only pennies and nickels for solution 2 above\n",
    "coins = [1, 5, 10, 25]\n",
    "\n",
    "# suppose we want to print the pennies and nickels in coins\n",
    "for coin in coins:\n",
    "    # we can \"skip\" values using continue\n",
    "    if coin > 5:\n",
    "        continue\n",
    "    \n",
    "    # remember what the `%` symbol does\n",
    "    if coin % 2 > 0:\n",
    "        print(f\"{coin}\")\n",
    "    \n",
    "    # `break` completely stops the looping process\n",
    "    elif coin > 5:\n",
    "        break"
   ]
  },
  {
   "cell_type": "markdown",
   "id": "28682d59",
   "metadata": {},
   "source": [
    "## Exercise 2\n",
    "\n",
    "Suppose we have student `names`, and test `scores` for each student, respectively. For example, we could have:\n",
    "\n",
    "```python\n",
    "names = np.array(['Hannah', 'Astrid', 'Abdul', 'Mauve', 'Jung'])\n",
    "scores = np.array([99, 71, 85, 62, 91])\n",
    "```\n",
    "\n",
    "### part 1\n",
    "\n",
    "Use NumPy to write a function `lowest_score(names, scores)` that returns the `name` of the student with the lowest `score`.\n",
    "\n",
    "> Hint: take a look at the [argmin](https://numpy.org/doc/stable/reference/generated/numpy.argmin.html) function.\n",
    "\n",
    "### part 2\n",
    "\n",
    "Write a similar function `sort_names(names, scores)` that will list the names of students in *descending* order of test score (i.e., a list of names, with associated scores in order from highest to lowest)."
   ]
  },
  {
   "cell_type": "code",
   "execution_count": 21,
   "id": "8d78555f",
   "metadata": {},
   "outputs": [
    {
     "name": "stdout",
     "output_type": "stream",
     "text": [
      "Mauve\n",
      "['Hannah' 'Jung' 'Abdul' 'Astrid' 'Mauve']\n"
     ]
    }
   ],
   "source": [
    "import numpy as np\n",
    "# Part 1\n",
    "# Write a function using NumPy called lowest_score(names, scores) that returns the name of the student with the lowest score\n",
    "# create two lists, one with names and one with scores\n",
    "names = np.array(['Hannah', 'Astrid', 'Abdul', 'Mauve', 'Jung'])\n",
    "scores = np.array([99, 71, 85, 62, 91])\n",
    "# define lowest_score\n",
    "def lowest_score(names, scores):\n",
    "    # Convert scores to a NumPy array for easier manipulation\n",
    "    scores_array = np.array(scores)\n",
    "    # Find the index of the lowest score\n",
    "    lowest_index = np.argmin(scores_array)\n",
    "    # Return the name corresponding to the lowest score\n",
    "    return names[lowest_index]\n",
    "# Test cases\n",
    "print(lowest_score(names, scores))  # Output: 'Mauve' (62 is the lowest score)\n",
    "\n",
    "# Part 2\n",
    "# Write a similar function called sort_names(names, scores) that will list the names of students in descending order of test score \n",
    "# create two lists, one with names and one with scores\n",
    "names = np.array(['Hannah', 'Astrid', 'Abdul', 'Mauve', 'Jung'])\n",
    "scores = np.array([99, 71, 85, 62, 91])\n",
    "# define sort_names\n",
    "def sort_names(names, scores):\n",
    "    # Get the indices that would sort the scores array in descending order\n",
    "    sorted_indices = np.argsort(scores)[::-1]\n",
    "    # Use these indices to sort the names array accordingly\n",
    "    sorted_names = names[sorted_indices]\n",
    "    return sorted_names\n",
    "# Test cases\n",
    "print(sort_names(names, scores))  # Output: ['Hannah', 'Jung', 'Abdul', 'Astrid', 'Mauve']"
   ]
  },
  {
   "cell_type": "code",
   "execution_count": 22,
   "id": "025589d0",
   "metadata": {},
   "outputs": [
    {
     "name": "stdout",
     "output_type": "stream",
     "text": [
      "Mauve\n",
      "['Hannah' 'Jung' 'Abdul' 'Astrid' 'Mauve']\n"
     ]
    }
   ],
   "source": [
    "import numpy as np\n",
    "# Part 1\n",
    "# Write a function using NumPy called lowest_score(names, scores) that returns the name of the student with the lowest score\n",
    "# create two lists, one with names and one with scores\n",
    "names = np.array(['Hannah', 'Astrid', 'Abdul', 'Mauve', 'Jung'])\n",
    "scores = np.array([99, 71, 85, 62, 91])\n",
    "# define lowest_score\n",
    "def lowest_score(names, scores):\n",
    "    # Use argmin to find the index of the lowest score\n",
    "    index = np.argmin(scores)\n",
    "    # Return the name corresponding to the lowest score from the names list\n",
    "    return names[index]\n",
    "# Test cases\n",
    "print(lowest_score(names, scores))  # Output: 'Mauve' (62 is the lowest score)\n",
    "\n",
    "# Part 2\n",
    "# Write a similar function called sort_names(names, scores) that will list the names of students in descending order of test score \n",
    "# create two lists, one with names and one with scores\n",
    "names = np.array(['Hannah', 'Astrid', 'Abdul', 'Mauve', 'Jung'])\n",
    "scores = np.array([99, 71, 85, 62, 91])\n",
    "# define sort_names\n",
    "def sort_names(names, scores):\n",
    "    # Use argsort to get the indices that would sort the scores in descending order\n",
    "    index = np.argsort(-scores)\n",
    "    # Return the names sorted by the corresponding scores\n",
    "    return names[index]\n",
    "# Test cases\n",
    "print(sort_names(names, scores))  # Output: ['Hannah', 'Jung', 'Abdul', 'Astrid', 'Mauve']\n"
   ]
  },
  {
   "cell_type": "code",
   "execution_count": null,
   "id": "85d481b5",
   "metadata": {},
   "outputs": [],
   "source": []
  }
 ],
 "metadata": {
  "kernelspec": {
   "display_name": "base",
   "language": "python",
   "name": "python3"
  },
  "language_info": {
   "codemirror_mode": {
    "name": "ipython",
    "version": 3
   },
   "file_extension": ".py",
   "mimetype": "text/x-python",
   "name": "python",
   "nbconvert_exporter": "python",
   "pygments_lexer": "ipython3",
   "version": "3.11.13"
  }
 },
 "nbformat": 4,
 "nbformat_minor": 5
}
